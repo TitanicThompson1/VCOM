{
 "cells": [
  {
   "cell_type": "markdown",
   "metadata": {},
   "source": [
    "# Image Enhancement"
   ]
  },
  {
   "cell_type": "code",
   "execution_count": null,
   "metadata": {},
   "outputs": [],
   "source": [
    "import cv2\n",
    "import os\n",
    "from matplotlib import pyplot as plt\n",
    "\n",
    "dataDir = '../Images_01' # Change this, according to your images' directory path"
   ]
  },
  {
   "cell_type": "code",
   "execution_count": null,
   "metadata": {},
   "outputs": [],
   "source": [
    "# Opening a noisy image\n",
    "img = cv2.imread(os.path.join(dataDir, 'coins_03_noisy.jpg')) # Change this, according to your image's path\n",
    "img = cv2.cvtColor(img, cv2.COLOR_BGR2RGB) # convert from BGR to RGB because we are using matplotlib to display the image\n",
    "plt.imshow(img)\n",
    "plt.title('Original (Noisy) Image')\n",
    "plt.axis('off')\n",
    "plt.show()"
   ]
  },
  {
   "cell_type": "markdown",
   "metadata": {},
   "source": [
    "## Filtering and Smoothing"
   ]
  },
  {
   "cell_type": "markdown",
   "metadata": {},
   "source": [
    "[Mean Filter (Option 1)](https://docs.opencv.org/master/d4/d86/group__imgproc__filter.html#ga8c45db9afe636703801b0b2e440fce37)\n",
    "\n",
    "[Mean Filter (Option 2)](https://docs.opencv.org/master/d4/d86/group__imgproc__filter.html#gad533230ebf2d42509547d514f7d3fbc3)"
   ]
  },
  {
   "cell_type": "code",
   "execution_count": null,
   "metadata": {},
   "outputs": [],
   "source": [
    "# Using a Mean Filter (Option 1)\n",
    "imgWithMeanFilter = cv2.blur(img, (4,4))\n",
    "\n",
    "plt.imshow(imgWithMeanFilter)\n",
    "plt.title('Mean Filter')\n",
    "plt.axis('off')\n",
    "plt.show()"
   ]
  },
  {
   "cell_type": "markdown",
   "metadata": {},
   "source": [
    "[Gaussian Filter](https://docs.opencv.org/master/d4/d86/group__imgproc__filter.html#gaabe8c836e97159a9193fb0b11ac52cf1)"
   ]
  },
  {
   "cell_type": "code",
   "execution_count": null,
   "metadata": {},
   "outputs": [],
   "source": [
    "# Using a Gaussian Filter\n",
    "imgWithGaussianFilter = cv2.GaussianBlur(img, (5,5), 0)\n",
    "\n",
    "plt.imshow(imgWithGaussianFilter)\n",
    "plt.title('Gaussian Filter')\n",
    "plt.axis('off')\n",
    "plt.show()"
   ]
  },
  {
   "cell_type": "markdown",
   "metadata": {},
   "source": [
    "[Median Filter](https://docs.opencv.org/master/d4/d86/group__imgproc__filter.html#ga564869aa33e58769b4469101aac458f9)"
   ]
  },
  {
   "cell_type": "code",
   "execution_count": null,
   "metadata": {},
   "outputs": [],
   "source": [
    "# Using a Median Filter\n",
    "imgWithMedianFilter = cv2.medianBlur(img, 5)\n",
    "\n",
    "plt.imshow(imgWithMedianFilter)\n",
    "plt.title('Median Filter')\n",
    "plt.axis('off')\n",
    "plt.show()"
   ]
  },
  {
   "cell_type": "markdown",
   "metadata": {},
   "source": [
    "[Bilateral Filter](https://docs.opencv.org/master/d4/d86/group__imgproc__filter.html#ga9d7064d478c95d60003cf839430737ed)"
   ]
  },
  {
   "cell_type": "code",
   "execution_count": null,
   "metadata": {},
   "outputs": [],
   "source": [
    "# Using a Bilateral Filter\n",
    "imgWithBilateralFilter = cv2.bilateralFilter(img, 15, 75, 75)\n",
    "\n",
    "plt.imshow(imgWithGaussianFilter)\n",
    "plt.title('Bilateral Filter')\n",
    "plt.axis('off')\n",
    "plt.show()"
   ]
  },
  {
   "cell_type": "markdown",
   "metadata": {},
   "source": [
    "**Challenge**\n",
    "\n",
    "1. Download an image (colour or grayscale) of your choosing;\n",
    "\n",
    "2. Apply salt and pepper noise to it;\n",
    "\n",
    "3. Try smoothing the image with some of the presentented techniques;\n",
    "\n",
    "4. Explore filtering with convolutions --- see exercise 4.e) of the exercises sheet."
   ]
  },
  {
   "cell_type": "markdown",
   "metadata": {},
   "source": [
    "## Histogram Equalization"
   ]
  },
  {
   "cell_type": "code",
   "execution_count": null,
   "metadata": {},
   "outputs": [],
   "source": [
    "imgLC = cv2.imread(os.path.join(dataDir, 'face_lowContrast_01.jpg'), 0) # Change this, according to your image's path\n",
    "\n",
    "plt.imshow(imgLC, cmap=\"gray\")\n",
    "plt.title('Low Contrast Image')\n",
    "plt.axis('off')\n",
    "plt.show()"
   ]
  },
  {
   "cell_type": "markdown",
   "metadata": {},
   "source": [
    "[Histograms Equalization](https://docs.opencv.org/master/d6/dc7/group__imgproc__hist.html#ga7e54091f0c937d49bf84152a16f76d6e)"
   ]
  },
  {
   "cell_type": "code",
   "execution_count": null,
   "metadata": {},
   "outputs": [],
   "source": [
    "# Increasing Contrast with Histograms Equalization\n",
    "imgLCwithHE = cv2.equalizeHist(imgLC)\n",
    "\n",
    "plt.imshow(imgLCwithHE, cmap=\"gray\")\n",
    "plt.title('Histograms Equalization')\n",
    "plt.axis('off')\n",
    "plt.show()"
   ]
  },
  {
   "cell_type": "markdown",
   "metadata": {},
   "source": [
    "[Contrast Limited Adaptive Histogram Equalization](https://docs.opencv.org/master/d6/dc7/group__imgproc__hist.html#gad689d2607b7b3889453804f414ab1018)"
   ]
  },
  {
   "cell_type": "code",
   "execution_count": null,
   "metadata": {},
   "outputs": [],
   "source": [
    "# Increasing Contrast with CLAHE\n",
    "clahe = cv2.createCLAHE(clipLimit=2.0, tileGridSize=(8,8))\n",
    "imgLCwithCLAHE = clahe.apply(imgLC)\n",
    "\n",
    "plt.imshow(imgLCwithCLAHE, cmap=\"gray\")\n",
    "plt.title('Histograms Equalization')\n",
    "plt.axis('off')\n",
    "plt.show()"
   ]
  },
  {
   "cell_type": "markdown",
   "metadata": {},
   "source": [
    "Challenge: Repeat the process for a coloured image"
   ]
  }
 ],
 "metadata": {
  "kernelspec": {
   "display_name": "Python 3",
   "language": "python",
   "name": "python3"
  },
  "language_info": {
   "codemirror_mode": {
    "name": "ipython",
    "version": 3
   },
   "file_extension": ".py",
   "mimetype": "text/x-python",
   "name": "python",
   "nbconvert_exporter": "python",
   "pygments_lexer": "ipython3",
   "version": "3.9.1"
  },
  "orig_nbformat": 2
 },
 "nbformat": 4,
 "nbformat_minor": 2
}
