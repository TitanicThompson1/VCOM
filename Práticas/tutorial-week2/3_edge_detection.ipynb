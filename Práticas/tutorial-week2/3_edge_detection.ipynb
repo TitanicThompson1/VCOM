{
 "cells": [
  {
   "cell_type": "markdown",
   "metadata": {},
   "source": [
    "# Edge and line detection"
   ]
  },
  {
   "cell_type": "code",
   "execution_count": null,
   "metadata": {},
   "outputs": [],
   "source": [
    "import cv2\n",
    "import numpy as np\n",
    "import os\n",
    "from matplotlib import pyplot as plt\n",
    "\n",
    "dataDir = 'Images_01' # Change this, according to your images' directory path"
   ]
  },
  {
   "cell_type": "code",
   "execution_count": null,
   "metadata": {},
   "outputs": [],
   "source": [
    "# Opening an image\n",
    "img = cv2.imread(os.path.join(dataDir, 'chessboard_01.jpg'), 0) # Change this, according to your image's path\n",
    "plt.imshow(img, cmap='gray')\n",
    "plt.title('Original Image')\n",
    "plt.axis('off')\n",
    "plt.show()"
   ]
  },
  {
   "cell_type": "markdown",
   "metadata": {},
   "source": [
    "## Edge Detection"
   ]
  },
  {
   "cell_type": "markdown",
   "metadata": {},
   "source": [
    "[Sobel Filter](https://docs.opencv.org/master/d4/d86/group__imgproc__filter.html#gacea54f142e81b6758cb6f375ce782c8d)"
   ]
  },
  {
   "cell_type": "code",
   "execution_count": null,
   "metadata": {},
   "outputs": [],
   "source": [
    "# Using a Sobel Filter\n",
    "imgWithSobelX = cv2.Sobel(img, cv2.CV_64F, 1, 0, ksize=5)\n",
    "imgWithSobelY = cv2.Sobel(img, cv2.CV_64F, 0, 1, ksize=5)\n",
    "\n",
    "plt.imshow(imgWithSobelX, cmap='gray', vmin=0)\n",
    "plt.title('Sobel X')\n",
    "plt.axis('off')\n",
    "plt.show()\n",
    "plt.imshow(imgWithSobelY, cmap = 'gray', vmin=0)\n",
    "plt.title('Sobel Y')\n",
    "plt.axis('off')\n",
    "plt.show()"
   ]
  },
  {
   "cell_type": "markdown",
   "metadata": {},
   "source": [
    "[Canny Filter](https://docs.opencv.org/master/dd/d1a/group__imgproc__feature.html#ga04723e007ed888ddf11d9ba04e2232de)"
   ]
  },
  {
   "cell_type": "code",
   "execution_count": null,
   "metadata": {},
   "outputs": [],
   "source": [
    "# Using a Canny Filter\n",
    "imgWithCannyFilter = cv2.Canny(img, 100, 200) # used the default value for the sigma of the smoothing function\n",
    "\n",
    "plt.imshow(imgWithCannyFilter, cmap=\"gray\")\n",
    "plt.title('Edge Image (Canny Filter)')\n",
    "plt.axis('off')\n",
    "plt.show()"
   ]
  },
  {
   "cell_type": "markdown",
   "metadata": {},
   "source": [
    "## Hough Line Transform"
   ]
  },
  {
   "cell_type": "markdown",
   "metadata": {},
   "source": [
    "[Standard Hough Lines Transform](https://docs.opencv.org/3.4/dd/d1a/group__imgproc__feature.html#ga46b4e588934f6c8dfd509cc6e0e4545a)"
   ]
  },
  {
   "cell_type": "code",
   "execution_count": null,
   "metadata": {},
   "outputs": [],
   "source": [
    "# Opening an image\n",
    "img2 = cv2.imread(os.path.join(dataDir, 'chessboard_02.jpg'), 0) # Change this, according to your image's path\n",
    "plt.imshow(img, cmap='gray')\n",
    "plt.title('Original Image')\n",
    "plt.axis('off')\n",
    "plt.show()"
   ]
  },
  {
   "cell_type": "code",
   "execution_count": null,
   "metadata": {},
   "outputs": [],
   "source": [
    "# First Step: detect the edges of the input image, with a Canny Filter\n",
    "img2WithCanny = cv2.Canny(img2, 50, 200) # used the default value for the sigma of the smoothing function\n",
    "\n",
    "# Copy edges to the image that will display the results in RGB (because of matplotlib)\n",
    "# Remember that OpenCV operates with BGR\n",
    "img2Copy = cv2.cvtColor(img2WithCanny, cv2.COLOR_GRAY2RGB)"
   ]
  },
  {
   "cell_type": "code",
   "execution_count": null,
   "metadata": {},
   "outputs": [],
   "source": [
    "# Second Step: apply the Hough transform\n",
    "# Standard Hough Lines Transform\n",
    "distanceResolution = 1\n",
    "angleResolution = np.pi / 180\n",
    "minNumVotes = 150 \n",
    "\n",
    "lines = cv2.HoughLines(img2WithCanny, distanceResolution, angleResolution, minNumVotes, None, 0, 0)"
   ]
  },
  {
   "cell_type": "code",
   "execution_count": null,
   "metadata": {},
   "outputs": [],
   "source": [
    "# Drawing the lines\n",
    "if lines is not None:\n",
    "    for i in range(0, len(lines)):\n",
    "        rho = lines[i][0][0]\n",
    "        theta = lines[i][0][1]\n",
    "        a = math.cos(theta)\n",
    "        b = math.sin(theta)\n",
    "        x0 = a * rho\n",
    "        y0 = b * rho\n",
    "        pt1 = (int(x0 + 1000*(-b)), int(y0 + 1000*(a)))\n",
    "        pt2 = (int(x0 - 1000*(-b)), int(y0 - 1000*(a)))\n",
    "        cv2.line(img2Copy, pt1, pt2, (255,0,0), 3)\n",
    "\n",
    "plt.imshow(img2Copy)\n",
    "plt.title('Standard Hough Transform Result')\n",
    "plt.axis('off')\n",
    "plt.show()"
   ]
  },
  {
   "cell_type": "markdown",
   "metadata": {},
   "source": [
    "[Probabilistic Hough Lines Transform](https://docs.opencv.org/3.4/dd/d1a/group__imgproc__feature.html#ga8618180a5948286384e3b7ca02f6feeb)"
   ]
  },
  {
   "cell_type": "code",
   "execution_count": null,
   "metadata": {},
   "outputs": [],
   "source": [
    "# Copy edges to the image that will display the results\n",
    "img2CopyP = cv2.cvtColor(img2WithCanny, cv2.COLOR_GRAY2RGB)\n",
    "\n",
    "\n",
    "# Second Step: apply the Hough transform\n",
    "# Probabilistic Hough Lines Transform\n",
    "linesP = cv2.HoughLinesP(img2WithCanny, 1, np.pi / 180, 50, None, 50, 10)"
   ]
  },
  {
   "cell_type": "code",
   "execution_count": null,
   "metadata": {},
   "outputs": [],
   "source": [
    "# Drawing the lines\n",
    "if linesP is not None:\n",
    "    for i in range(0, len(linesP)):\n",
    "        l = linesP[i][0]\n",
    "        cv2.line(img2CopyP, (l[0], l[1]), (l[2], l[3]), (255,0,0), 3)\n",
    "\n",
    "plt.imshow(img2CopyP)\n",
    "plt.title('Probabilistic Hough Transform Result')\n",
    "plt.axis('off')\n",
    "plt.show()"
   ]
  },
  {
   "cell_type": "markdown",
   "metadata": {},
   "source": [
    "## Hough Circle Transform"
   ]
  },
  {
   "cell_type": "markdown",
   "metadata": {},
   "source": [
    "[Hough Circle Transform](https://docs.opencv.org/master/dd/d1a/group__imgproc__feature.html#ga47849c3be0d0406ad3ca45db65a25d2d)"
   ]
  },
  {
   "cell_type": "code",
   "execution_count": null,
   "metadata": {},
   "outputs": [],
   "source": [
    "coins = cv2.imread(os.path.join(dataDir, 'coins_01.jpg'), 0) # Change this, according to your image's path\n",
    "coins = cv2.blur(coins,(3,3))\n",
    "\n",
    "# Copy edges to the image that will display the results\n",
    "coinsCopy = cv2.cvtColor(coins,cv2.COLOR_GRAY2RGB)\n",
    "\n",
    "plt.imshow(coins, cmap=\"gray\")\n",
    "plt.title('Original Image')\n",
    "plt.axis('off')\n",
    "plt.show()"
   ]
  },
  {
   "cell_type": "code",
   "execution_count": null,
   "metadata": {},
   "outputs": [],
   "source": [
    "# Apply the Hough circle transform\n",
    "detectionMethod = cv2.HOUGH_GRADIENT # corresponds to the canny filter\n",
    "resolutionFlag = 1 # same resolution as the original image\n",
    "minDistance = 20 # between the centers of the detected circles\n",
    "\n",
    "# param1 and param2 are the thresholds passed to the detection method \n",
    "circles = cv2.HoughCircles(coins, detectionMethod, resolutionFlag, minDistance, param1=200, param2=100, minRadius=0, maxRadius=0)\n",
    "circles = np.uint16(np.around(circles))\n",
    "\n",
    "# Drawing the resulting circles\n",
    "for i in circles[0,:]: \n",
    "    cv2.circle(coinsCopy,(i[0],i[1]),i[2],(0,255,0),2)\n",
    "\n",
    "plt.imshow(coinsCopy)\n",
    "plt.title('Hough Circle Transform Result')\n",
    "plt.axis('off')\n",
    "plt.show()"
   ]
  }
 ],
 "metadata": {
  "kernelspec": {
   "display_name": "Python 3",
   "language": "python",
   "name": "python3"
  },
  "language_info": {
   "codemirror_mode": {
    "name": "ipython",
    "version": 3
   },
   "file_extension": ".py",
   "mimetype": "text/x-python",
   "name": "python",
   "nbconvert_exporter": "python",
   "pygments_lexer": "ipython3",
   "version": "3.9.1"
  },
  "orig_nbformat": 2
 },
 "nbformat": 4,
 "nbformat_minor": 2
}
